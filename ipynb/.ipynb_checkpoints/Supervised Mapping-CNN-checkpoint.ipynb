{
 "cells": [
  {
   "cell_type": "code",
   "execution_count": 1,
   "metadata": {},
   "outputs": [],
   "source": [
    "%matplotlib inline\n",
    "import numpy as np\n",
    "import pandas as pd\n",
    "import matplotlib\n",
    "import matplotlib.pyplot as plt\n",
    "from spectral import *\n",
    "import spectral.io.envi as envi"
   ]
  },
  {
   "cell_type": "markdown",
   "metadata": {},
   "source": [
    "### Data Check"
   ]
  },
  {
   "cell_type": "code",
   "execution_count": 2,
   "metadata": {},
   "outputs": [
    {
     "data": {
      "text/html": [
       "<div>\n",
       "<style scoped>\n",
       "    .dataframe tbody tr th:only-of-type {\n",
       "        vertical-align: middle;\n",
       "    }\n",
       "\n",
       "    .dataframe tbody tr th {\n",
       "        vertical-align: top;\n",
       "    }\n",
       "\n",
       "    .dataframe thead th {\n",
       "        text-align: right;\n",
       "    }\n",
       "</style>\n",
       "<table border=\"1\" class=\"dataframe\">\n",
       "  <thead>\n",
       "    <tr style=\"text-align: right;\">\n",
       "      <th></th>\n",
       "      <th>0</th>\n",
       "      <th>1</th>\n",
       "      <th>2</th>\n",
       "      <th>3</th>\n",
       "      <th>4</th>\n",
       "      <th>5</th>\n",
       "      <th>6</th>\n",
       "      <th>7</th>\n",
       "      <th>8</th>\n",
       "      <th>9</th>\n",
       "      <th>...</th>\n",
       "      <th>221</th>\n",
       "      <th>222</th>\n",
       "      <th>223</th>\n",
       "      <th>224</th>\n",
       "      <th>225</th>\n",
       "      <th>226</th>\n",
       "      <th>227</th>\n",
       "      <th>228</th>\n",
       "      <th>229</th>\n",
       "      <th>minerals</th>\n",
       "    </tr>\n",
       "  </thead>\n",
       "  <tbody>\n",
       "    <tr>\n",
       "      <th>0</th>\n",
       "      <td>0.0</td>\n",
       "      <td>0.0</td>\n",
       "      <td>0.0</td>\n",
       "      <td>0.0</td>\n",
       "      <td>0.0</td>\n",
       "      <td>0.0</td>\n",
       "      <td>0.0</td>\n",
       "      <td>0.0</td>\n",
       "      <td>0.0</td>\n",
       "      <td>0.0</td>\n",
       "      <td>...</td>\n",
       "      <td>0.0</td>\n",
       "      <td>0.0</td>\n",
       "      <td>0.0</td>\n",
       "      <td>0.0</td>\n",
       "      <td>0.0</td>\n",
       "      <td>0.0</td>\n",
       "      <td>0.0</td>\n",
       "      <td>0.0</td>\n",
       "      <td>0.0</td>\n",
       "      <td>1</td>\n",
       "    </tr>\n",
       "    <tr>\n",
       "      <th>1</th>\n",
       "      <td>0.0</td>\n",
       "      <td>0.0</td>\n",
       "      <td>0.0</td>\n",
       "      <td>0.0</td>\n",
       "      <td>0.0</td>\n",
       "      <td>0.0</td>\n",
       "      <td>0.0</td>\n",
       "      <td>0.0</td>\n",
       "      <td>0.0</td>\n",
       "      <td>0.0</td>\n",
       "      <td>...</td>\n",
       "      <td>0.0</td>\n",
       "      <td>0.0</td>\n",
       "      <td>0.0</td>\n",
       "      <td>0.0</td>\n",
       "      <td>0.0</td>\n",
       "      <td>0.0</td>\n",
       "      <td>0.0</td>\n",
       "      <td>0.0</td>\n",
       "      <td>0.0</td>\n",
       "      <td>1</td>\n",
       "    </tr>\n",
       "    <tr>\n",
       "      <th>2</th>\n",
       "      <td>0.0</td>\n",
       "      <td>0.0</td>\n",
       "      <td>0.0</td>\n",
       "      <td>0.0</td>\n",
       "      <td>0.0</td>\n",
       "      <td>0.0</td>\n",
       "      <td>0.0</td>\n",
       "      <td>0.0</td>\n",
       "      <td>0.0</td>\n",
       "      <td>0.0</td>\n",
       "      <td>...</td>\n",
       "      <td>0.0</td>\n",
       "      <td>0.0</td>\n",
       "      <td>0.0</td>\n",
       "      <td>0.0</td>\n",
       "      <td>0.0</td>\n",
       "      <td>0.0</td>\n",
       "      <td>0.0</td>\n",
       "      <td>0.0</td>\n",
       "      <td>0.0</td>\n",
       "      <td>1</td>\n",
       "    </tr>\n",
       "    <tr>\n",
       "      <th>3</th>\n",
       "      <td>0.0</td>\n",
       "      <td>0.0</td>\n",
       "      <td>0.0</td>\n",
       "      <td>0.0</td>\n",
       "      <td>0.0</td>\n",
       "      <td>0.0</td>\n",
       "      <td>0.0</td>\n",
       "      <td>0.0</td>\n",
       "      <td>0.0</td>\n",
       "      <td>0.0</td>\n",
       "      <td>...</td>\n",
       "      <td>0.0</td>\n",
       "      <td>0.0</td>\n",
       "      <td>0.0</td>\n",
       "      <td>0.0</td>\n",
       "      <td>0.0</td>\n",
       "      <td>0.0</td>\n",
       "      <td>0.0</td>\n",
       "      <td>0.0</td>\n",
       "      <td>0.0</td>\n",
       "      <td>1</td>\n",
       "    </tr>\n",
       "    <tr>\n",
       "      <th>4</th>\n",
       "      <td>0.0</td>\n",
       "      <td>0.0</td>\n",
       "      <td>0.0</td>\n",
       "      <td>0.0</td>\n",
       "      <td>0.0</td>\n",
       "      <td>0.0</td>\n",
       "      <td>0.0</td>\n",
       "      <td>0.0</td>\n",
       "      <td>0.0</td>\n",
       "      <td>0.0</td>\n",
       "      <td>...</td>\n",
       "      <td>0.0</td>\n",
       "      <td>0.0</td>\n",
       "      <td>0.0</td>\n",
       "      <td>0.0</td>\n",
       "      <td>0.0</td>\n",
       "      <td>0.0</td>\n",
       "      <td>0.0</td>\n",
       "      <td>0.0</td>\n",
       "      <td>0.0</td>\n",
       "      <td>1</td>\n",
       "    </tr>\n",
       "  </tbody>\n",
       "</table>\n",
       "<p>5 rows × 231 columns</p>\n",
       "</div>"
      ],
      "text/plain": [
       "     0    1    2    3    4    5    6    7    8    9  ...  221  222  223  224  \\\n",
       "0  0.0  0.0  0.0  0.0  0.0  0.0  0.0  0.0  0.0  0.0  ...  0.0  0.0  0.0  0.0   \n",
       "1  0.0  0.0  0.0  0.0  0.0  0.0  0.0  0.0  0.0  0.0  ...  0.0  0.0  0.0  0.0   \n",
       "2  0.0  0.0  0.0  0.0  0.0  0.0  0.0  0.0  0.0  0.0  ...  0.0  0.0  0.0  0.0   \n",
       "3  0.0  0.0  0.0  0.0  0.0  0.0  0.0  0.0  0.0  0.0  ...  0.0  0.0  0.0  0.0   \n",
       "4  0.0  0.0  0.0  0.0  0.0  0.0  0.0  0.0  0.0  0.0  ...  0.0  0.0  0.0  0.0   \n",
       "\n",
       "   225  226  227  228  229  minerals  \n",
       "0  0.0  0.0  0.0  0.0  0.0         1  \n",
       "1  0.0  0.0  0.0  0.0  0.0         1  \n",
       "2  0.0  0.0  0.0  0.0  0.0         1  \n",
       "3  0.0  0.0  0.0  0.0  0.0         1  \n",
       "4  0.0  0.0  0.0  0.0  0.0         1  \n",
       "\n",
       "[5 rows x 231 columns]"
      ]
     },
     "execution_count": 2,
     "metadata": {},
     "output_type": "execute_result"
    }
   ],
   "source": [
    "imageUnsup=pd.read_pickle(\"./MinMapKmeans.pkl\")\n",
    "imageUnsup.head()"
   ]
  },
  {
   "cell_type": "code",
   "execution_count": 3,
   "metadata": {},
   "outputs": [
    {
     "data": {
      "text/plain": [
       "<matplotlib.colorbar.Colorbar at 0x1cac903fec8>"
      ]
     },
     "execution_count": 3,
     "metadata": {},
     "output_type": "execute_result"
    },
    {
     "data": {
      "image/png": "[encoded data removed]",
      "text/plain": [
       "<Figure size 432x288 with 2 Axes>"
      ]
     },
     "metadata": {
      "needs_background": "light"
     },
     "output_type": "display_data"
    }
   ],
   "source": [
    "imageNpy=imageUnsup.to_numpy()\n",
    "groundTruth=imageNpy.reshape(285, 200, 231)\n",
    "gt=groundTruth[:, :, 230]\n",
    "plt.imshow(gt, cmap=plt.cm.get_cmap('viridis',4))\n",
    "plt.colorbar()"
   ]
  },
  {
   "cell_type": "code",
   "execution_count": 21,
   "metadata": {},
   "outputs": [],
   "source": [
    "from tensorflow.keras.models import Sequential\n",
    "from sklearn.preprocessing import minmax_scale\n",
    "from tensorflow.keras.layers import Conv1D, MaxPooling1D, Dropout, Flatten, Dense\n",
    "from tensorflow.keras.utils import to_categorical\n",
    "from sklearn.model_selection import train_test_split\n",
    "from sklearn.metrics import mean_squared_error, r2_score, confusion_matrix, classification_report\n",
    "from tensorflow.keras.utils import to_categorical"
   ]
  },
  {
   "cell_type": "code",
   "execution_count": 5,
   "metadata": {},
   "outputs": [
    {
     "data": {
      "text/plain": [
       "((57000, 230), (57000, 5))"
      ]
     },
     "execution_count": 5,
     "metadata": {},
     "output_type": "execute_result"
    }
   ],
   "source": [
    "X=imageUnsup.iloc[:, :-1]\n",
    "y=to_categorical(imageUnsup.loc[:,'minerals'])\n",
    "X_scaled=minmax_scale(X, axis = 0)\n",
    "\n",
    "X_scaled.shape, y.shape"
   ]
  },
  {
   "cell_type": "code",
   "execution_count": 6,
   "metadata": {},
   "outputs": [
    {
     "name": "stdout",
     "output_type": "stream",
     "text": [
      "X_train: (39900, 230)\n",
      "y_train: (39900, 5)\n",
      "X_test: (17100, 230)\n",
      "y_test: (17100, 5)\n"
     ]
    }
   ],
   "source": [
    "X=imageUnsup.iloc[:, :-1]\n",
    "y=to_categorical(imageUnsup.loc[:,'minerals'])\n",
    "\n",
    "# Split data \n",
    "X_train, X_test, y_train, y_test = train_test_split(X_scaled, y, stratify=y,test_size=0.30)\n",
    "print(f\"X_train: {X_train.shape}\\ny_train: {y_train.shape}\\nX_test: {X_test.shape}\\ny_test: {y_test.shape}\") \n"
   ]
  },
  {
   "cell_type": "code",
   "execution_count": 7,
   "metadata": {},
   "outputs": [],
   "source": [
    "X_train = X_train.reshape(-1, 230, 1)\n",
    "X_test = X_test.reshape(-1, 230, 1)"
   ]
  },
  {
   "cell_type": "code",
   "execution_count": 8,
   "metadata": {},
   "outputs": [
    {
     "name": "stdout",
     "output_type": "stream",
     "text": [
      "Model: \"MinMap_CNN\"\n",
      "_________________________________________________________________\n",
      "Layer (type)                 Output Shape              Param #   \n",
      "=================================================================\n",
      "Layer1 (Conv1D)              (None, 228, 64)           256       \n",
      "_________________________________________________________________\n",
      "Layer2 (Conv1D)              (None, 226, 64)           12352     \n",
      "_________________________________________________________________\n",
      "Layer3 (Conv1D)              (None, 224, 64)           12352     \n",
      "_________________________________________________________________\n",
      "MaxPooling_Layer1 (MaxPoolin (None, 112, 64)           0         \n",
      "_________________________________________________________________\n",
      "Dropout1 (Dropout)           (None, 112, 64)           0         \n",
      "_________________________________________________________________\n",
      "Flatten (Flatten)            (None, 7168)              0         \n",
      "_________________________________________________________________\n",
      "DenseLayer (Dense)           (None, 25)                179225    \n",
      "_________________________________________________________________\n",
      "OutputLayer (Dense)          (None, 5)                 130       \n",
      "=================================================================\n",
      "Total params: 204,315\n",
      "Trainable params: 204,315\n",
      "Non-trainable params: 0\n",
      "_________________________________________________________________\n"
     ]
    }
   ],
   "source": [
    "model = Sequential(name = 'MinMap_CNN')\n",
    "\n",
    "model.add(Conv1D(filters = 64, kernel_size = 3, activation ='relu', input_shape =(230,1), name = 'Layer1'))\n",
    "model.add(Conv1D(filters = 64, kernel_size = 3, activation ='relu' , name = 'Layer2'))\n",
    "model.add(Conv1D(filters = 64, kernel_size = 3, activation ='relu' , name = 'Layer3'))\n",
    "\n",
    "model.add(MaxPooling1D(pool_size = 2, name = 'MaxPooling_Layer1'))\n",
    "model.add(Dropout(0.4, name = 'Dropout1'))\n",
    "\n",
    "model.add(Flatten(name = 'Flatten'))\n",
    "\n",
    "model.add(Dense(25, activation='relu', name = 'DenseLayer'))\n",
    "\n",
    "model.add(Dense(y_train.shape[1], activation='softmax', name = 'OutputLayer'))\n",
    "\n",
    "\n",
    "model.summary()"
   ]
  },
  {
   "cell_type": "code",
   "execution_count": 9,
   "metadata": {},
   "outputs": [
    {
     "name": "stdout",
     "output_type": "stream",
     "text": [
      "Train on 39900 samples\n",
      "Epoch 1/100\n",
      "39900/39900 [==============================] - 43s 1ms/sample - loss: 0.4148 - accuracy: 0.8409\n",
      "Epoch 2/100\n",
      "39900/39900 [==============================] - 30s 743us/sample - loss: 0.0859 - accuracy: 0.9659\n",
      "Epoch 3/100\n",
      "39900/39900 [==============================] - 30s 763us/sample - loss: 0.0768 - accuracy: 0.9663\n",
      "Epoch 4/100\n",
      "39900/39900 [==============================] - 31s 769us/sample - loss: 0.0632 - accuracy: 0.9741\n",
      "Epoch 5/100\n",
      "39900/39900 [==============================] - 31s 771us/sample - loss: 0.0583 - accuracy: 0.9741\n",
      "Epoch 6/100\n",
      "39900/39900 [==============================] - 31s 775us/sample - loss: 0.0799 - accuracy: 0.9676\n",
      "Epoch 7/100\n",
      "39900/39900 [==============================] - 31s 775us/sample - loss: 0.0522 - accuracy: 0.9779\n",
      "Epoch 8/100\n",
      "39900/39900 [==============================] - 31s 781us/sample - loss: 0.0543 - accuracy: 0.9772\n",
      "Epoch 9/100\n",
      "39900/39900 [==============================] - 31s 777us/sample - loss: 0.0619 - accuracy: 0.9731\n",
      "Epoch 10/100\n",
      "39900/39900 [==============================] - 32s 793us/sample - loss: 0.0519 - accuracy: 0.9777\n",
      "Epoch 11/100\n",
      "39900/39900 [==============================] - 31s 779us/sample - loss: 0.0492 - accuracy: 0.9791\n",
      "Epoch 12/100\n",
      "39900/39900 [==============================] - 32s 791us/sample - loss: 0.0604 - accuracy: 0.9744\n",
      "Epoch 13/100\n",
      "39900/39900 [==============================] - 31s 784us/sample - loss: 0.0447 - accuracy: 0.9809\n",
      "Epoch 14/100\n",
      "39900/39900 [==============================] - 32s 801us/sample - loss: 0.0593 - accuracy: 0.9742\n",
      "Epoch 15/100\n",
      "39900/39900 [==============================] - 32s 794us/sample - loss: 0.0476 - accuracy: 0.9795\n",
      "Epoch 16/100\n",
      "39900/39900 [==============================] - 32s 794us/sample - loss: 0.0514 - accuracy: 0.9783\n",
      "Epoch 17/100\n",
      "39900/39900 [==============================] - 32s 794us/sample - loss: 0.0481 - accuracy: 0.9787\n",
      "Epoch 18/100\n",
      "39900/39900 [==============================] - 32s 796us/sample - loss: 0.0533 - accuracy: 0.9769\n",
      "Epoch 19/100\n",
      "39900/39900 [==============================] - 32s 793us/sample - loss: 0.0495 - accuracy: 0.9780\n",
      "Epoch 20/100\n",
      "39900/39900 [==============================] - 32s 800us/sample - loss: 0.0395 - accuracy: 0.9833\n",
      "Epoch 21/100\n",
      "39900/39900 [==============================] - 32s 790us/sample - loss: 0.0529 - accuracy: 0.9769\n",
      "Epoch 22/100\n",
      "39900/39900 [==============================] - 32s 804us/sample - loss: 0.0489 - accuracy: 0.9784\n",
      "Epoch 23/100\n",
      "39900/39900 [==============================] - 32s 790us/sample - loss: 0.0515 - accuracy: 0.9780\n",
      "Epoch 24/100\n",
      "39900/39900 [==============================] - 31s 787us/sample - loss: 0.0431 - accuracy: 0.9812\n",
      "Epoch 25/100\n",
      "39900/39900 [==============================] - 31s 785us/sample - loss: 0.0623 - accuracy: 0.9756\n",
      "Epoch 26/100\n",
      "39900/39900 [==============================] - 31s 787us/sample - loss: 0.0451 - accuracy: 0.9807\n",
      "Epoch 27/100\n",
      "39900/39900 [==============================] - 31s 789us/sample - loss: 0.0401 - accuracy: 0.9824\n",
      "Epoch 28/100\n",
      "39900/39900 [==============================] - 31s 787us/sample - loss: 0.0445 - accuracy: 0.9802\n",
      "Epoch 29/100\n",
      "39900/39900 [==============================] - 31s 789us/sample - loss: 0.0451 - accuracy: 0.9801\n",
      "Epoch 30/100\n",
      "39900/39900 [==============================] - 32s 790us/sample - loss: 0.0480 - accuracy: 0.9788\n",
      "Epoch 31/100\n",
      "39900/39900 [==============================] - 32s 796us/sample - loss: 0.0477 - accuracy: 0.9788\n",
      "Epoch 32/100\n",
      "39900/39900 [==============================] - 31s 787us/sample - loss: 0.0457 - accuracy: 0.9796\n",
      "Epoch 33/100\n",
      "39900/39900 [==============================] - 32s 799us/sample - loss: 0.0379 - accuracy: 0.9830\n",
      "Epoch 34/100\n",
      "39900/39900 [==============================] - 31s 786us/sample - loss: 0.0463 - accuracy: 0.9810\n",
      "Epoch 35/100\n",
      "39900/39900 [==============================] - 32s 795us/sample - loss: 0.0505 - accuracy: 0.9780\n",
      "Epoch 36/100\n",
      "39900/39900 [==============================] - 31s 786us/sample - loss: 0.0378 - accuracy: 0.9838\n",
      "Epoch 37/100\n",
      "39900/39900 [==============================] - 35s 883us/sample - loss: 0.0466 - accuracy: 0.9802\n",
      "Epoch 38/100\n",
      "39900/39900 [==============================] - 37s 925us/sample - loss: 0.0390 - accuracy: 0.9835\n",
      "Epoch 39/100\n",
      "39900/39900 [==============================] - 50s 1ms/sample - loss: 0.0378 - accuracy: 0.9832\n",
      "Epoch 40/100\n",
      "39900/39900 [==============================] - 51s 1ms/sample - loss: 0.0521 - accuracy: 0.9788\n",
      "Epoch 41/100\n",
      "39900/39900 [==============================] - 50s 1ms/sample - loss: 0.0422 - accuracy: 0.9817\n",
      "Epoch 42/100\n",
      "39900/39900 [==============================] - 50s 1ms/sample - loss: 0.0463 - accuracy: 0.9807\n",
      "Epoch 43/100\n",
      "39900/39900 [==============================] - 50s 1ms/sample - loss: 0.0545 - accuracy: 0.9769\n",
      "Epoch 44/100\n",
      "39900/39900 [==============================] - 49s 1ms/sample - loss: 0.0425 - accuracy: 0.9815\n",
      "Epoch 45/100\n",
      "39900/39900 [==============================] - 54s 1ms/sample - loss: 0.0336 - accuracy: 0.9859\n",
      "Epoch 46/100\n",
      "39900/39900 [==============================] - 49s 1ms/sample - loss: 0.0333 - accuracy: 0.9857\n",
      "Epoch 47/100\n",
      "39900/39900 [==============================] - 50s 1ms/sample - loss: 0.0354 - accuracy: 0.9851\n",
      "Epoch 48/100\n",
      "39900/39900 [==============================] - 50s 1ms/sample - loss: 0.0431 - accuracy: 0.9813\n",
      "Epoch 49/100\n",
      "39900/39900 [==============================] - 49s 1ms/sample - loss: 0.0425 - accuracy: 0.9809\n",
      "Epoch 50/100\n",
      "39900/39900 [==============================] - 44s 1ms/sample - loss: 0.0421 - accuracy: 0.9816\n",
      "Epoch 51/100\n",
      "39900/39900 [==============================] - 30s 748us/sample - loss: 0.0390 - accuracy: 0.9829- loss: 0.0375 - accura\n",
      "Epoch 52/100\n",
      "39900/39900 [==============================] - 33s 825us/sample - loss: 0.0429 - accuracy: 0.9813- loss: 0.0438 \n",
      "Epoch 53/100\n",
      "39900/39900 [==============================] - 31s 766us/sample - loss: 0.0398 - accuracy: 0.9831- loss: 0.0397 - accuracy: \n",
      "Epoch 54/100\n",
      "39900/39900 [==============================] - 31s 774us/sample - loss: 0.0501 - accuracy: 0.9781\n",
      "Epoch 55/100\n",
      "39900/39900 [==============================] - 31s 781us/sample - loss: 0.0342 - accuracy: 0.9853\n",
      "Epoch 56/100\n",
      "39900/39900 [==============================] - 31s 779us/sample - loss: 0.0372 - accuracy: 0.9837\n",
      "Epoch 57/100\n",
      "39900/39900 [==============================] - 31s 784us/sample - loss: 0.0384 - accuracy: 0.9833\n",
      "Epoch 58/100\n",
      "39900/39900 [==============================] - 31s 784us/sample - loss: 0.0338 - accuracy: 0.9853\n",
      "Epoch 59/100\n",
      "39900/39900 [==============================] - 31s 787us/sample - loss: 0.0455 - accuracy: 0.9817\n",
      "Epoch 60/100\n",
      "39900/39900 [==============================] - 31s 786us/sample - loss: 0.0328 - accuracy: 0.9850\n",
      "Epoch 61/100\n",
      "39900/39900 [==============================] - 40s 1ms/sample - loss: 0.0346 - accuracy: 0.9853\n",
      "Epoch 62/100\n",
      "39900/39900 [==============================] - 81s 2ms/sample - loss: 0.0360 - accuracy: 0.9841\n",
      "Epoch 63/100\n",
      "39900/39900 [==============================] - 41s 1ms/sample - loss: 0.0357 - accuracy: 0.9849\n",
      "Epoch 64/100\n",
      "39900/39900 [==============================] - 44s 1ms/sample - loss: 0.0643 - accuracy: 0.9738\n",
      "Epoch 65/100\n",
      "39900/39900 [==============================] - 61s 2ms/sample - loss: 0.0374 - accuracy: 0.9845\n",
      "Epoch 66/100\n",
      "39900/39900 [==============================] - 30s 759us/sample - loss: 0.0492 - accuracy: 0.9790\n",
      "Epoch 67/100\n",
      "39900/39900 [==============================] - 31s 770us/sample - loss: 0.0368 - accuracy: 0.9841\n",
      "Epoch 68/100\n",
      "39900/39900 [==============================] - 39s 988us/sample - loss: 0.0357 - accuracy: 0.9841\n",
      "Epoch 69/100\n",
      "39900/39900 [==============================] - 50s 1ms/sample - loss: 0.0344 - accuracy: 0.9850\n",
      "Epoch 70/100\n",
      "39900/39900 [==============================] - 50s 1ms/sample - loss: 0.0297 - accuracy: 0.9875\n",
      "Epoch 71/100\n",
      "39900/39900 [==============================] - 50s 1ms/sample - loss: 0.0330 - accuracy: 0.9862\n",
      "Epoch 72/100\n",
      "39900/39900 [==============================] - 50s 1ms/sample - loss: 0.0362 - accuracy: 0.9844\n",
      "Epoch 73/100\n",
      "39900/39900 [==============================] - 50s 1ms/sample - loss: 0.0334 - accuracy: 0.9846\n",
      "Epoch 74/100\n"
     ]
    },
    {
     "name": "stdout",
     "output_type": "stream",
     "text": [
      "39900/39900 [==============================] - 49s 1ms/sample - loss: 0.0411 - accuracy: 0.9827\n",
      "Epoch 75/100\n",
      "39900/39900 [==============================] - 49s 1ms/sample - loss: 0.0358 - accuracy: 0.9848\n",
      "Epoch 76/100\n",
      "39900/39900 [==============================] - 49s 1ms/sample - loss: 0.0423 - accuracy: 0.9811\n",
      "Epoch 77/100\n",
      "39900/39900 [==============================] - 45s 1ms/sample - loss: 0.0341 - accuracy: 0.9860\n",
      "Epoch 78/100\n",
      "39900/39900 [==============================] - 43s 1ms/sample - loss: 0.0409 - accuracy: 0.9825\n",
      "Epoch 79/100\n",
      "39900/39900 [==============================] - 43s 1ms/sample - loss: 0.0330 - accuracy: 0.9862\n",
      "Epoch 80/100\n",
      "39900/39900 [==============================] - 43s 1ms/sample - loss: 0.0329 - accuracy: 0.9854\n",
      "Epoch 81/100\n",
      "39900/39900 [==============================] - 43s 1ms/sample - loss: 0.0294 - accuracy: 0.9874\n",
      "Epoch 82/100\n",
      "39900/39900 [==============================] - 35s 889us/sample - loss: 0.0338 - accuracy: 0.9858\n",
      "Epoch 83/100\n",
      "39900/39900 [==============================] - 31s 787us/sample - loss: 0.0332 - accuracy: 0.9857\n",
      "Epoch 84/100\n",
      "39900/39900 [==============================] - 31s 776us/sample - loss: 0.0368 - accuracy: 0.9835\n",
      "Epoch 85/100\n",
      "39900/39900 [==============================] - 32s 803us/sample - loss: 0.0395 - accuracy: 0.9832\n",
      "Epoch 86/100\n",
      "39900/39900 [==============================] - 33s 825us/sample - loss: 0.0303 - accuracy: 0.9869\n",
      "Epoch 87/100\n",
      "39900/39900 [==============================] - 32s 790us/sample - loss: 0.0350 - accuracy: 0.9848\n",
      "Epoch 88/100\n",
      "39900/39900 [==============================] - 31s 789us/sample - loss: 0.0277 - accuracy: 0.9869\n",
      "Epoch 89/100\n",
      "39900/39900 [==============================] - 31s 789us/sample - loss: 0.0417 - accuracy: 0.9822\n",
      "Epoch 90/100\n",
      "39900/39900 [==============================] - 31s 787us/sample - loss: 0.0365 - accuracy: 0.9851\n",
      "Epoch 91/100\n",
      "39900/39900 [==============================] - 32s 790us/sample - loss: 0.0320 - accuracy: 0.9864\n",
      "Epoch 92/100\n",
      "39900/39900 [==============================] - 32s 793us/sample - loss: 0.0308 - accuracy: 0.9866\n",
      "Epoch 93/100\n",
      "39900/39900 [==============================] - 32s 795us/sample - loss: 0.0407 - accuracy: 0.9831\n",
      "Epoch 94/100\n",
      "39900/39900 [==============================] - 32s 792us/sample - loss: 0.0338 - accuracy: 0.9854\n",
      "Epoch 95/100\n",
      "39900/39900 [==============================] - 32s 795us/sample - loss: 0.0332 - accuracy: 0.9860\n",
      "Epoch 96/100\n",
      "39900/39900 [==============================] - 32s 790us/sample - loss: 0.0316 - accuracy: 0.9863\n",
      "Epoch 97/100\n",
      "39900/39900 [==============================] - 32s 793us/sample - loss: 0.0340 - accuracy: 0.9868\n",
      "Epoch 98/100\n",
      "39900/39900 [==============================] - 32s 794us/sample - loss: 0.0293 - accuracy: 0.9869\n",
      "Epoch 99/100\n",
      "39900/39900 [==============================] - 32s 792us/sample - loss: 0.0409 - accuracy: 0.9834\n",
      "Epoch 100/100\n",
      "39900/39900 [==============================] - 32s 795us/sample - loss: 0.0362 - accuracy: 0.9855\n"
     ]
    },
    {
     "data": {
      "text/plain": [
       "<tensorflow.python.keras.callbacks.History at 0x1caf301e788>"
      ]
     },
     "execution_count": 9,
     "metadata": {},
     "output_type": "execute_result"
    }
   ],
   "source": [
    "model.compile(loss='categorical_crossentropy', optimizer='adam', metrics=['accuracy'])\n",
    "model.fit(X_train, y_train, batch_size=256, epochs=100)\n"
   ]
  },
  {
   "cell_type": "code",
   "execution_count": 10,
   "metadata": {},
   "outputs": [
    {
     "name": "stdout",
     "output_type": "stream",
     "text": [
      "17100/17100 [==============================] - 4s 233us/sample - loss: 0.0448 - accuracy: 0.9777\n"
     ]
    }
   ],
   "source": [
    "score = model.evaluate(X_test, y_test, batch_size=256)"
   ]
  },
  {
   "cell_type": "markdown",
   "metadata": {},
   "source": [
    "In this case, the result seems too optimistic. It is simply because of the ground truth used in this case is a clustering classification result, which done earlier in this process without further detail validation. Our classes are only rely on the data-based analysis which resulting a very optimistic result.\n",
    "\n",
    "In the actual case, this kind of result might be caused by the overfit. Below is the introduction of early stopping technique to reduce the overfitting result. "
   ]
  },
  {
   "cell_type": "code",
   "execution_count": 11,
   "metadata": {},
   "outputs": [],
   "source": [
    "#introduce early stopping\n",
    "from tensorflow.keras.callbacks import EarlyStopping, ModelCheckpoint\n",
    "\n",
    "earlyStop = EarlyStopping(monitor = 'val_loss',\n",
    "                            mode = 'min',\n",
    "                            min_delta = 0,\n",
    "                            patience = 10,\n",
    "                            restore_best_weights = True)\n",
    "\n",
    "checkPoint = ModelCheckpoint(filepath = 'minmap.h5', \n",
    "                             monitor = 'val_loss', \n",
    "                             mode ='min', \n",
    "                             save_best_only = True)\n"
   ]
  },
  {
   "cell_type": "code",
   "execution_count": 12,
   "metadata": {},
   "outputs": [
    {
     "name": "stdout",
     "output_type": "stream",
     "text": [
      "Train on 39900 samples, validate on 17100 samples\n",
      "Epoch 1/100\n",
      "39900/39900 [==============================] - 34s 841us/sample - loss: 0.0326 - accuracy: 0.9856 - val_loss: 0.0515 - val_accuracy: 0.9764\n",
      "Epoch 2/100\n",
      "39900/39900 [==============================] - 35s 878us/sample - loss: 0.0561 - accuracy: 0.9791 - val_loss: 0.0630 - val_accuracy: 0.9680\n",
      "Epoch 3/100\n",
      "39900/39900 [==============================] - 37s 926us/sample - loss: 0.0294 - accuracy: 0.9878 - val_loss: 0.0336 - val_accuracy: 0.9839\n",
      "Epoch 4/100\n",
      "39900/39900 [==============================] - 38s 940us/sample - loss: 0.0338 - accuracy: 0.9856 - val_loss: 0.0241 - val_accuracy: 0.9893\n",
      "Epoch 5/100\n",
      "39900/39900 [==============================] - 37s 922us/sample - loss: 0.0293 - accuracy: 0.9873 - val_loss: 0.0273 - val_accuracy: 0.9890\n",
      "Epoch 6/100\n",
      "39900/39900 [==============================] - 37s 920us/sample - loss: 0.0319 - accuracy: 0.9861 - val_loss: 0.0435 - val_accuracy: 0.9811\n",
      "Epoch 7/100\n",
      "39900/39900 [==============================] - 37s 923us/sample - loss: 0.0282 - accuracy: 0.9874 - val_loss: 0.0336 - val_accuracy: 0.9831\n",
      "Epoch 8/100\n",
      "39900/39900 [==============================] - 37s 925us/sample - loss: 0.0267 - accuracy: 0.9883 - val_loss: 0.0230 - val_accuracy: 0.9883\n",
      "Epoch 9/100\n",
      "39900/39900 [==============================] - 37s 928us/sample - loss: 0.0347 - accuracy: 0.9848 - val_loss: 0.0166 - val_accuracy: 0.9958\n",
      "Epoch 10/100\n",
      "39900/39900 [==============================] - 37s 926us/sample - loss: 0.0322 - accuracy: 0.9861 - val_loss: 0.0240 - val_accuracy: 0.9885\n",
      "Epoch 11/100\n",
      "39900/39900 [==============================] - 37s 928us/sample - loss: 0.0244 - accuracy: 0.9898 - val_loss: 0.0228 - val_accuracy: 0.9887\n",
      "Epoch 12/100\n",
      "39900/39900 [==============================] - 37s 925us/sample - loss: 0.0508 - accuracy: 0.9790 - val_loss: 0.0264 - val_accuracy: 0.9888\n",
      "Epoch 13/100\n",
      "39900/39900 [==============================] - 37s 924us/sample - loss: 0.0274 - accuracy: 0.9881 - val_loss: 0.0416 - val_accuracy: 0.9791\n",
      "Epoch 14/100\n",
      "39900/39900 [==============================] - 37s 926us/sample - loss: 0.0572 - accuracy: 0.9758 - val_loss: 0.0235 - val_accuracy: 0.9929\n",
      "Epoch 15/100\n",
      "39900/39900 [==============================] - 37s 927us/sample - loss: 0.0319 - accuracy: 0.9862 - val_loss: 0.0250 - val_accuracy: 0.9882\n",
      "Epoch 16/100\n",
      "39900/39900 [==============================] - 37s 926us/sample - loss: 0.0304 - accuracy: 0.9868 - val_loss: 0.0223 - val_accuracy: 0.9904\n",
      "Epoch 17/100\n",
      "39900/39900 [==============================] - 37s 926us/sample - loss: 0.0309 - accuracy: 0.9860 - val_loss: 0.0209 - val_accuracy: 0.9911\n",
      "Epoch 18/100\n",
      "39900/39900 [==============================] - 37s 930us/sample - loss: 0.0290 - accuracy: 0.9875 - val_loss: 0.0170 - val_accuracy: 0.9952\n",
      "Epoch 19/100\n",
      "39900/39900 [==============================] - 37s 928us/sample - loss: 0.0306 - accuracy: 0.9869 - val_loss: 0.0676 - val_accuracy: 0.9706\n"
     ]
    }
   ],
   "source": [
    "hist = model.fit(X_train, \n",
    "                       y_train, \n",
    "                       epochs = 100, \n",
    "                       batch_size = 256 , \n",
    "                       validation_data = (X_test, y_test), \n",
    "                       callbacks=[earlyStop,\n",
    "                                  checkPoint])"
   ]
  },
  {
   "cell_type": "code",
   "execution_count": 14,
   "metadata": {},
   "outputs": [
    {
     "name": "stdout",
     "output_type": "stream",
     "text": [
      "17100/17100 [==============================] - 5s 281us/sample - loss: 0.0166 - accuracy: 0.9958\n",
      "Accuracy: 99.57894682884216\n",
      "Loss: 0.016586692493139325\n"
     ]
    }
   ],
   "source": [
    "loss, acc = model.evaluate(X_test, y_test)\n",
    "print(f\"Accuracy: {acc*100}\\nLoss: {loss}\")"
   ]
  },
  {
   "cell_type": "code",
   "execution_count": 15,
   "metadata": {},
   "outputs": [],
   "source": [
    "from tensorflow.keras.models import load_model\n",
    "\n",
    "model = load_model(\"minmap.h5\")"
   ]
  },
  {
   "cell_type": "code",
   "execution_count": 16,
   "metadata": {},
   "outputs": [],
   "source": [
    "pred = np.argmax(model.predict(X_test), axis=1)"
   ]
  },
  {
   "cell_type": "code",
   "execution_count": 17,
   "metadata": {},
   "outputs": [
    {
     "name": "stdout",
     "output_type": "stream",
     "text": [
      "(17100, 5)\n",
      "[4 2 2 ... 0 4 4]\n"
     ]
    }
   ],
   "source": [
    "print(y_test.shape)\n",
    "print(pred)"
   ]
  },
  {
   "cell_type": "code",
   "execution_count": 18,
   "metadata": {},
   "outputs": [
    {
     "data": {
      "text/plain": [
       "<matplotlib.axes._subplots.AxesSubplot at 0x1ca8ed8f348>"
      ]
     },
     "execution_count": 18,
     "metadata": {},
     "output_type": "execute_result"
    },
    {
     "data": {
      "image/png": "[encoded data removed]",
      "text/plain": [
       "<Figure size 1440x720 with 2 Axes>"
      ]
     },
     "metadata": {
      "needs_background": "light"
     },
     "output_type": "display_data"
    }
   ],
   "source": [
    "plt.figure(figsize = (20,10))\n",
    "confmat=confusion_matrix(np.add(pred, 1), np.add(np.argmax(y_test, 1), 1))\n",
    "import seaborn as sns\n",
    "sns.heatmap(confmat, annot=True)"
   ]
  },
  {
   "cell_type": "code",
   "execution_count": 22,
   "metadata": {},
   "outputs": [
    {
     "name": "stdout",
     "output_type": "stream",
     "text": [
      "              precision    recall  f1-score   support\n",
      "\n",
      "           0       1.00      0.99      0.99      2006\n",
      "           1       1.00      1.00      1.00      4020\n",
      "           2       0.99      1.00      1.00      3891\n",
      "           3       1.00      1.00      1.00      1437\n",
      "           4       0.99      1.00      0.99      5746\n",
      "\n",
      "    accuracy                           1.00     17100\n",
      "   macro avg       1.00      0.99      1.00     17100\n",
      "weighted avg       1.00      1.00      1.00     17100\n",
      "\n"
     ]
    }
   ],
   "source": [
    "print(classification_report(pred, np.argmax(y_test, 1)))"
   ]
  },
  {
   "cell_type": "code",
   "execution_count": 23,
   "metadata": {},
   "outputs": [
    {
     "name": "stdout",
     "output_type": "stream",
     "text": [
      "(255, 246, 230)\n"
     ]
    },
    {
     "data": {
      "text/plain": [
       "ImageView object:\n",
       "  Display bands       :  (0, 200, 220)\n",
       "  Interpolation       :  <default>\n",
       "  RGB data limits     :\n",
       "    R: [0.0, 0.4755154550075531]\n",
       "    G: [0.0, 0.4598034918308258]\n",
       "    B: [0.0, 0.3776836693286896]"
      ]
     },
     "execution_count": 23,
     "metadata": {},
     "output_type": "execute_result"
    },
    {
     "data": {
      "image/png": "[encoded data removed]",
      "text/plain": [
       "<Figure size 432x288 with 1 Axes>"
      ]
     },
     "metadata": {
      "needs_background": "light"
     },
     "output_type": "display_data"
    }
   ],
   "source": [
    "a76_ref = envi.open('76a_101012-114750_refl_ss.hdr', '76a_101012-114750_refl_ss.dat')\n",
    "a76_data = np.array(a76_ref.load())\n",
    "print (a76_data.shape) # wavelength1043-2486 nm in 230 bands\n",
    "imshow(a76_data, (0, 200, 220))"
   ]
  },
  {
   "cell_type": "code",
   "execution_count": 24,
   "metadata": {},
   "outputs": [
    {
     "name": "stdout",
     "output_type": "stream",
     "text": [
      "(62730, 230)\n"
     ]
    }
   ],
   "source": [
    "a76_pixels=a76_data.reshape((62730, 230))\n",
    "a76_scaled=minmax_scale(a76_pixels, axis = 0)\n",
    "print (a76_scaled.shape)\n",
    "a76_scaled = a76_scaled.reshape(-1, 230, 1)"
   ]
  },
  {
   "cell_type": "code",
   "execution_count": null,
   "metadata": {},
   "outputs": [],
   "source": [
    "a76_pred = np.argmax(model.predict(a76_scaled), axis=1)"
   ]
  },
  {
   "cell_type": "code",
   "execution_count": 132,
   "metadata": {},
   "outputs": [
    {
     "data": {
      "text/html": [
       "<div>\n",
       "<style scoped>\n",
       "    .dataframe tbody tr th:only-of-type {\n",
       "        vertical-align: middle;\n",
       "    }\n",
       "\n",
       "    .dataframe tbody tr th {\n",
       "        vertical-align: top;\n",
       "    }\n",
       "\n",
       "    .dataframe thead th {\n",
       "        text-align: right;\n",
       "    }\n",
       "</style>\n",
       "<table border=\"1\" class=\"dataframe\">\n",
       "  <thead>\n",
       "    <tr style=\"text-align: right;\">\n",
       "      <th></th>\n",
       "      <th>0</th>\n",
       "      <th>1</th>\n",
       "      <th>2</th>\n",
       "      <th>3</th>\n",
       "      <th>4</th>\n",
       "      <th>5</th>\n",
       "      <th>6</th>\n",
       "      <th>7</th>\n",
       "      <th>8</th>\n",
       "      <th>9</th>\n",
       "      <th>...</th>\n",
       "      <th>221</th>\n",
       "      <th>222</th>\n",
       "      <th>223</th>\n",
       "      <th>224</th>\n",
       "      <th>225</th>\n",
       "      <th>226</th>\n",
       "      <th>227</th>\n",
       "      <th>228</th>\n",
       "      <th>229</th>\n",
       "      <th>minpred</th>\n",
       "    </tr>\n",
       "  </thead>\n",
       "  <tbody>\n",
       "    <tr>\n",
       "      <th>count</th>\n",
       "      <td>62730.000000</td>\n",
       "      <td>62730.000000</td>\n",
       "      <td>62730.000000</td>\n",
       "      <td>62730.000000</td>\n",
       "      <td>62730.000000</td>\n",
       "      <td>62730.000000</td>\n",
       "      <td>62730.000000</td>\n",
       "      <td>62730.000000</td>\n",
       "      <td>62730.000000</td>\n",
       "      <td>62730.000000</td>\n",
       "      <td>...</td>\n",
       "      <td>62730.000000</td>\n",
       "      <td>62730.000000</td>\n",
       "      <td>62730.000000</td>\n",
       "      <td>62730.000000</td>\n",
       "      <td>62730.000000</td>\n",
       "      <td>62730.000000</td>\n",
       "      <td>62730.000000</td>\n",
       "      <td>62730.000000</td>\n",
       "      <td>62730.000000</td>\n",
       "      <td>62730.000000</td>\n",
       "    </tr>\n",
       "    <tr>\n",
       "      <th>mean</th>\n",
       "      <td>0.188393</td>\n",
       "      <td>0.188889</td>\n",
       "      <td>0.189291</td>\n",
       "      <td>0.189634</td>\n",
       "      <td>0.190035</td>\n",
       "      <td>0.190476</td>\n",
       "      <td>0.190834</td>\n",
       "      <td>0.191098</td>\n",
       "      <td>0.191436</td>\n",
       "      <td>0.191796</td>\n",
       "      <td>...</td>\n",
       "      <td>0.105839</td>\n",
       "      <td>0.105285</td>\n",
       "      <td>0.105539</td>\n",
       "      <td>0.106172</td>\n",
       "      <td>0.107103</td>\n",
       "      <td>0.108220</td>\n",
       "      <td>0.109309</td>\n",
       "      <td>0.110186</td>\n",
       "      <td>0.110936</td>\n",
       "      <td>2.147696</td>\n",
       "    </tr>\n",
       "    <tr>\n",
       "      <th>std</th>\n",
       "      <td>0.128757</td>\n",
       "      <td>0.129312</td>\n",
       "      <td>0.129718</td>\n",
       "      <td>0.130134</td>\n",
       "      <td>0.130571</td>\n",
       "      <td>0.131025</td>\n",
       "      <td>0.131443</td>\n",
       "      <td>0.131803</td>\n",
       "      <td>0.132190</td>\n",
       "      <td>0.132589</td>\n",
       "      <td>...</td>\n",
       "      <td>0.075499</td>\n",
       "      <td>0.075084</td>\n",
       "      <td>0.075163</td>\n",
       "      <td>0.075481</td>\n",
       "      <td>0.075995</td>\n",
       "      <td>0.076627</td>\n",
       "      <td>0.077218</td>\n",
       "      <td>0.077702</td>\n",
       "      <td>0.078024</td>\n",
       "      <td>1.365271</td>\n",
       "    </tr>\n",
       "    <tr>\n",
       "      <th>min</th>\n",
       "      <td>0.000000</td>\n",
       "      <td>0.000000</td>\n",
       "      <td>0.000000</td>\n",
       "      <td>0.000000</td>\n",
       "      <td>0.000000</td>\n",
       "      <td>0.000000</td>\n",
       "      <td>0.000000</td>\n",
       "      <td>0.000000</td>\n",
       "      <td>0.000000</td>\n",
       "      <td>0.000000</td>\n",
       "      <td>...</td>\n",
       "      <td>0.000000</td>\n",
       "      <td>0.000000</td>\n",
       "      <td>0.000000</td>\n",
       "      <td>0.000000</td>\n",
       "      <td>0.000000</td>\n",
       "      <td>0.000000</td>\n",
       "      <td>0.000000</td>\n",
       "      <td>0.000000</td>\n",
       "      <td>0.000000</td>\n",
       "      <td>0.000000</td>\n",
       "    </tr>\n",
       "    <tr>\n",
       "      <th>25%</th>\n",
       "      <td>0.000000</td>\n",
       "      <td>0.000000</td>\n",
       "      <td>0.000000</td>\n",
       "      <td>0.000000</td>\n",
       "      <td>0.000000</td>\n",
       "      <td>0.000000</td>\n",
       "      <td>0.000000</td>\n",
       "      <td>0.000000</td>\n",
       "      <td>0.000000</td>\n",
       "      <td>0.000000</td>\n",
       "      <td>...</td>\n",
       "      <td>0.000000</td>\n",
       "      <td>0.000000</td>\n",
       "      <td>0.000000</td>\n",
       "      <td>0.000000</td>\n",
       "      <td>0.000000</td>\n",
       "      <td>0.000000</td>\n",
       "      <td>0.000000</td>\n",
       "      <td>0.000000</td>\n",
       "      <td>0.000000</td>\n",
       "      <td>1.000000</td>\n",
       "    </tr>\n",
       "    <tr>\n",
       "      <th>50%</th>\n",
       "      <td>0.240671</td>\n",
       "      <td>0.240867</td>\n",
       "      <td>0.241387</td>\n",
       "      <td>0.241713</td>\n",
       "      <td>0.242038</td>\n",
       "      <td>0.242410</td>\n",
       "      <td>0.242500</td>\n",
       "      <td>0.242609</td>\n",
       "      <td>0.243037</td>\n",
       "      <td>0.243163</td>\n",
       "      <td>...</td>\n",
       "      <td>0.122673</td>\n",
       "      <td>0.121983</td>\n",
       "      <td>0.122532</td>\n",
       "      <td>0.123535</td>\n",
       "      <td>0.125077</td>\n",
       "      <td>0.126817</td>\n",
       "      <td>0.128517</td>\n",
       "      <td>0.129871</td>\n",
       "      <td>0.131179</td>\n",
       "      <td>2.000000</td>\n",
       "    </tr>\n",
       "    <tr>\n",
       "      <th>75%</th>\n",
       "      <td>0.286753</td>\n",
       "      <td>0.287695</td>\n",
       "      <td>0.288513</td>\n",
       "      <td>0.289111</td>\n",
       "      <td>0.290016</td>\n",
       "      <td>0.290788</td>\n",
       "      <td>0.291437</td>\n",
       "      <td>0.291922</td>\n",
       "      <td>0.292821</td>\n",
       "      <td>0.293475</td>\n",
       "      <td>...</td>\n",
       "      <td>0.159524</td>\n",
       "      <td>0.158732</td>\n",
       "      <td>0.159173</td>\n",
       "      <td>0.159931</td>\n",
       "      <td>0.161221</td>\n",
       "      <td>0.162821</td>\n",
       "      <td>0.164476</td>\n",
       "      <td>0.165695</td>\n",
       "      <td>0.166568</td>\n",
       "      <td>4.000000</td>\n",
       "    </tr>\n",
       "    <tr>\n",
       "      <th>max</th>\n",
       "      <td>0.475515</td>\n",
       "      <td>0.474927</td>\n",
       "      <td>0.478830</td>\n",
       "      <td>0.486132</td>\n",
       "      <td>0.490920</td>\n",
       "      <td>0.492449</td>\n",
       "      <td>0.498140</td>\n",
       "      <td>0.497966</td>\n",
       "      <td>0.504788</td>\n",
       "      <td>0.505084</td>\n",
       "      <td>...</td>\n",
       "      <td>0.373878</td>\n",
       "      <td>0.368603</td>\n",
       "      <td>0.367045</td>\n",
       "      <td>0.366803</td>\n",
       "      <td>0.370623</td>\n",
       "      <td>0.368081</td>\n",
       "      <td>0.367456</td>\n",
       "      <td>0.368606</td>\n",
       "      <td>0.374251</td>\n",
       "      <td>4.000000</td>\n",
       "    </tr>\n",
       "  </tbody>\n",
       "</table>\n",
       "<p>8 rows × 231 columns</p>\n",
       "</div>"
      ],
      "text/plain": [
       "                  0             1             2             3             4  \\\n",
       "count  62730.000000  62730.000000  62730.000000  62730.000000  62730.000000   \n",
       "mean       0.188393      0.188889      0.189291      0.189634      0.190035   \n",
       "std        0.128757      0.129312      0.129718      0.130134      0.130571   \n",
       "min        0.000000      0.000000      0.000000      0.000000      0.000000   \n",
       "25%        0.000000      0.000000      0.000000      0.000000      0.000000   \n",
       "50%        0.240671      0.240867      0.241387      0.241713      0.242038   \n",
       "75%        0.286753      0.287695      0.288513      0.289111      0.290016   \n",
       "max        0.475515      0.474927      0.478830      0.486132      0.490920   \n",
       "\n",
       "                  5             6             7             8             9  \\\n",
       "count  62730.000000  62730.000000  62730.000000  62730.000000  62730.000000   \n",
       "mean       0.190476      0.190834      0.191098      0.191436      0.191796   \n",
       "std        0.131025      0.131443      0.131803      0.132190      0.132589   \n",
       "min        0.000000      0.000000      0.000000      0.000000      0.000000   \n",
       "25%        0.000000      0.000000      0.000000      0.000000      0.000000   \n",
       "50%        0.242410      0.242500      0.242609      0.243037      0.243163   \n",
       "75%        0.290788      0.291437      0.291922      0.292821      0.293475   \n",
       "max        0.492449      0.498140      0.497966      0.504788      0.505084   \n",
       "\n",
       "       ...           221           222           223           224  \\\n",
       "count  ...  62730.000000  62730.000000  62730.000000  62730.000000   \n",
       "mean   ...      0.105839      0.105285      0.105539      0.106172   \n",
       "std    ...      0.075499      0.075084      0.075163      0.075481   \n",
       "min    ...      0.000000      0.000000      0.000000      0.000000   \n",
       "25%    ...      0.000000      0.000000      0.000000      0.000000   \n",
       "50%    ...      0.122673      0.121983      0.122532      0.123535   \n",
       "75%    ...      0.159524      0.158732      0.159173      0.159931   \n",
       "max    ...      0.373878      0.368603      0.367045      0.366803   \n",
       "\n",
       "                225           226           227           228           229  \\\n",
       "count  62730.000000  62730.000000  62730.000000  62730.000000  62730.000000   \n",
       "mean       0.107103      0.108220      0.109309      0.110186      0.110936   \n",
       "std        0.075995      0.076627      0.077218      0.077702      0.078024   \n",
       "min        0.000000      0.000000      0.000000      0.000000      0.000000   \n",
       "25%        0.000000      0.000000      0.000000      0.000000      0.000000   \n",
       "50%        0.125077      0.126817      0.128517      0.129871      0.131179   \n",
       "75%        0.161221      0.162821      0.164476      0.165695      0.166568   \n",
       "max        0.370623      0.368081      0.367456      0.368606      0.374251   \n",
       "\n",
       "            minpred  \n",
       "count  62730.000000  \n",
       "mean       2.147696  \n",
       "std        1.365271  \n",
       "min        0.000000  \n",
       "25%        1.000000  \n",
       "50%        2.000000  \n",
       "75%        4.000000  \n",
       "max        4.000000  \n",
       "\n",
       "[8 rows x 231 columns]"
      ]
     },
     "execution_count": 132,
     "metadata": {},
     "output_type": "execute_result"
    }
   ],
   "source": [
    "a76=pd.DataFrame(a76_pixels)\n",
    "a76['minpred']=a76_pred\n",
    "a76.describe()"
   ]
  },
  {
   "cell_type": "code",
   "execution_count": 134,
   "metadata": {},
   "outputs": [],
   "source": [
    "a76npy=a76.to_numpy()\n",
    "a76_classified=a76npy.reshape(255, 246, 231)\n",
    "MinMapCNN=a76_classified[:, :, 230]"
   ]
  },
  {
   "cell_type": "code",
   "execution_count": 135,
   "metadata": {},
   "outputs": [
    {
     "data": {
      "text/plain": [
       "<matplotlib.colorbar.Colorbar at 0x1f1b926f2c8>"
      ]
     },
     "execution_count": 135,
     "metadata": {},
     "output_type": "execute_result"
    },
    {
     "data": {
      "image/png": "[encoded data removed]",
      "text/plain": [
       "<Figure size 432x288 with 2 Axes>"
      ]
     },
     "metadata": {
      "needs_background": "light"
     },
     "output_type": "display_data"
    }
   ],
   "source": [
    "plt.imshow(MinMapCNN, cmap=plt.cm.get_cmap('viridis',4))\n",
    "plt.colorbar()"
   ]
  },
  {
   "cell_type": "markdown",
   "metadata": {},
   "source": [
    "# CATBoost Model"
   ]
  },
  {
   "cell_type": "code",
   "execution_count": 60,
   "metadata": {},
   "outputs": [
    {
     "name": "stdout",
     "output_type": "stream",
     "text": [
      "RMSE train:  0.07164940950541221\n",
      "RMSE test: 0.270126142815618\n"
     ]
    }
   ],
   "source": [
    "from xgboost import XGBRegressor\n",
    "def rmse(actual, pred):\n",
    "    return np.sqrt(mean_squared_error(actual, pred))\n",
    "\n",
    "\n",
    "model = XGBRegressor()\n",
    "model.fit(X_train, y_train)\n",
    "\n",
    "# Train performance\n",
    "pred_train = model.predict(X_train)\n",
    "print('RMSE train: ', rmse(y_train, pred_train))\n",
    "\n",
    "# Test performance \n",
    "pred_test = model.predict(X_test)\n",
    "print('RMSE test:', rmse(y_test, pred_test))"
   ]
  },
  {
   "cell_type": "markdown",
   "metadata": {},
   "source": [
    "## Load New data"
   ]
  },
  {
   "cell_type": "code",
   "execution_count": 116,
   "metadata": {},
   "outputs": [
    {
     "name": "stdout",
     "output_type": "stream",
     "text": [
      "(255, 246, 230)\n"
     ]
    }
   ],
   "source": [
    "data_ref = envi.open('76a_101012-114750_refl_ss.hdr', '76a_101012-114750_refl_ss.dat')\n",
    "data = np.array(data_ref.load())\n",
    "print (data.shape) # wavelength1043-2486 nm in 230 bands"
   ]
  },
  {
   "cell_type": "code",
   "execution_count": 117,
   "metadata": {},
   "outputs": [],
   "source": [
    "head=['0  ', '1  ', '2  ', '3  ', '4  ', '5  ', '6  ', '7  ', '8  ', '9  ', '10 ', '11 ', '12 ', '13 ', '14 ', '15 ', '16 ', '17 ', '18 ', '19 ', '20 ', '21 ', '22 ', '23 ', '24 ', '25 ', '26 ', '27 ', '28 ', '29 ', '30 ', '31 ', '32 ', '33 ', '34 ', '35 ', '36 ', '37 ', '38 ', '39 ', '40 ', '41 ', '42 ', '43 ', '44 ', '45 ', '46 ', '47 ', '48 ', '49 ', '50 ', '51 ', '52 ', '53 ', '54 ', '55 ', '56 ', '57 ', '58 ', '59 ', '60 ', '61 ', '62 ', '63 ', '64 ', '65 ', '66 ', '67 ', '68 ', '69 ', '70 ', '71 ', '72 ', '73 ', '74 ', '75 ', '76 ', '77 ', '78 ', '79 ', '80 ', '81 ', '82 ', '83 ', '84 ', '85 ', '86 ', '87 ', '88 ', '89 ', '90 ', '91 ', '92 ', '93 ', '94 ', '95 ', '96 ', '97 ', '98 ', '99 ', '100', '101', '102', '103', '104', '105', '106', '107', '108', '109', '110', '111', '112', '113', '114', '115', '116', '117', '118', '119', '120', '121', '122', '123', '124', '125', '126', '127', '128', '129', '130', '131', '132', '133', '134', '135', '136', '137', '138', '139', '140', '141', '142', '143', '144', '145', '146', '147', '148', '149', '150', '151', '152', '153', '154', '155', '156', '157', '158', '159', '160', '161', '162', '163', '164', '165', '166', '167', '168', '169', '170', '171', '172', '173', '174', '175', '176', '177', '178', '179', '180', '181', '182', '183', '184', '185', '186', '187', '188', '189', '190', '191', '192', '193', '194', '195', '196', '197', '198', '199', '200', '201', '202', '203', '204', '205', '206', '207', '208', '209', '210', '211', '212', '213', '214', '215', '216', '217', '218', '219', '220', '221', '222', '223', '224', '225', '226', '227', '228', '229']\n",
    "pixels = data.reshape(((data.shape[0]*data.shape[1]), 230))\n",
    "imagenew=pd.DataFrame(pixels, columns=head)"
   ]
  },
  {
   "cell_type": "code",
   "execution_count": 118,
   "metadata": {},
   "outputs": [],
   "source": [
    "imgMin=model.predict(imagenew)\n",
    "imagenew['minerals']=imgMin.astype(int)"
   ]
  },
  {
   "cell_type": "code",
   "execution_count": 119,
   "metadata": {},
   "outputs": [],
   "source": [
    "imagenpy=imagenew.to_numpy()\n",
    "classified=imagenpy.reshape(255, 246, 231)\n",
    "MinMapXGBoost=classified[:, :, 230]"
   ]
  },
  {
   "cell_type": "code",
   "execution_count": 120,
   "metadata": {},
   "outputs": [
    {
     "data": {
      "text/plain": [
       "<matplotlib.colorbar.Colorbar at 0x1e90cce3188>"
      ]
     },
     "execution_count": 120,
     "metadata": {},
     "output_type": "execute_result"
    },
    {
     "data": {
      "image/png": "[encoded data removed]",
      "text/plain": [
       "<Figure size 432x288 with 2 Axes>"
      ]
     },
     "metadata": {
      "needs_background": "light"
     },
     "output_type": "display_data"
    }
   ],
   "source": [
    "plt.imshow(MinMapXGBoost, cmap=plt.cm.get_cmap('viridis',5))\n",
    "plt.colorbar()"
   ]
  },
  {
   "cell_type": "code",
   "execution_count": null,
   "metadata": {},
   "outputs": [],
   "source": []
  }
 ],
 "metadata": {
  "kernelspec": {
   "display_name": "Python 3",
   "language": "python",
   "name": "python3"
  },
  "language_info": {
   "codemirror_mode": {
    "name": "ipython",
    "version": 3
   },
   "file_extension": ".py",
   "mimetype": "text/x-python",
   "name": "python",
   "nbconvert_exporter": "python",
   "pygments_lexer": "ipython3",
   "version": "3.7.7"
  }
 },
 "nbformat": 4,
 "nbformat_minor": 4
}
